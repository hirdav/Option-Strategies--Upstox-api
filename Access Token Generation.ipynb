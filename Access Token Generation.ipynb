{
 "cells": [
  {
   "cell_type": "markdown",
   "metadata": {},
   "source": [
    "Acces Token Generation"
   ]
  },
  {
   "cell_type": "code",
   "execution_count": null,
   "metadata": {},
   "outputs": [],
   "source": [
    "import pandas as pd\n",
    "import datetime\n",
    "import requests\n",
    "import urllib.parse\n",
    "import requests\n",
    "\n",
    "apiKey = '218cxx7c-xxxxx---160xxxxc-git8'\n",
    "secretKey = 'rxxx--xx--tzp'\n",
    "redirectUrl = 'https://127.0.0.1:5000/'\n",
    "rurl = urllib.parse.quote(redirectUrl,safe=\"\")\n",
    "rurl"
   ]
  },
  {
   "cell_type": "code",
   "execution_count": null,
   "metadata": {},
   "outputs": [],
   "source": [
    "url = f'https://api-v2.upstox.com/login/authorization/dialog?response_type=code&client_id={apiKey}&redirect_uri={rurl}'\n",
    "print(url)"
   ]
  },
  {
   "cell_type": "code",
   "execution_count": null,
   "metadata": {},
   "outputs": [],
   "source": [
    "\n",
    "url = 'https://api-v2.upstox.com/login/authorization/token'\n",
    "code = 'KaVvfr'\n",
    "headers = {\n",
    "    'accept': 'application/json',\n",
    "    'Content-Type': 'application/x-www-form-urlencoded'\n",
    "}\n",
    "\n",
    "data = {\n",
    "    'code': code,\n",
    "    'client_id': apiKey,\n",
    "    'client_secret': secretKey,\n",
    "    'redirect_uri': redirectUrl,\n",
    "    'grant_type': 'authorization_code'\n",
    "}\n",
    "\n",
    "response = requests.post(url, headers=headers, data=data)\n",
    "json_response = response.json()\n",
    "\n",
    "json_response"
   ]
  },
  {
   "cell_type": "code",
   "execution_count": null,
   "metadata": {},
   "outputs": [],
   "source": [
    "access_token = json_response['access_token']\n",
    "access_token"
   ]
  }
 ],
 "metadata": {
  "kernelspec": {
   "display_name": "Python 3",
   "language": "python",
   "name": "python3"
  },
  "language_info": {
   "codemirror_mode": {
    "name": "ipython",
    "version": 3
   },
   "file_extension": ".py",
   "mimetype": "text/x-python",
   "name": "python",
   "nbconvert_exporter": "python",
   "pygments_lexer": "ipython3",
   "version": "3.11.4"
  }
 },
 "nbformat": 4,
 "nbformat_minor": 2
}
